{
  "nbformat": 4,
  "nbformat_minor": 0,
  "metadata": {
    "colab": {
      "name": "Fuzyy_2.ipynb",
      "provenance": []
    },
    "kernelspec": {
      "name": "python3",
      "display_name": "Python 3"
    },
    "language_info": {
      "name": "python"
    }
  },
  "cells": [
    {
      "cell_type": "code",
      "metadata": {
        "colab": {
          "base_uri": "https://localhost:8080/"
        },
        "id": "qDQrZg4WONcp",
        "outputId": "1ab4d42a-8a37-4c03-d73b-a1617e6b6089"
      },
      "source": [
        "import numpy as np\n",
        "!pip install scikit-fuzzy\n",
        "import skfuzzy as fuzz\n",
        "from skfuzzy import control as ctrl\n",
        "import pandas as pd"
      ],
      "execution_count": 1,
      "outputs": [
        {
          "output_type": "stream",
          "text": [
            "Collecting scikit-fuzzy\n",
            "\u001b[?25l  Downloading https://files.pythonhosted.org/packages/6c/f0/5eb5dbe0fd8dfe7d4651a8f4e591a196623a22b9e5339101e559695b4f6c/scikit-fuzzy-0.4.2.tar.gz (993kB)\n",
            "\r\u001b[K     |▎                               | 10kB 13.7MB/s eta 0:00:01\r\u001b[K     |▋                               | 20kB 18.0MB/s eta 0:00:01\r\u001b[K     |█                               | 30kB 21.4MB/s eta 0:00:01\r\u001b[K     |█▎                              | 40kB 24.6MB/s eta 0:00:01\r\u001b[K     |█▋                              | 51kB 27.1MB/s eta 0:00:01\r\u001b[K     |██                              | 61kB 28.7MB/s eta 0:00:01\r\u001b[K     |██▎                             | 71kB 29.8MB/s eta 0:00:01\r\u001b[K     |██▋                             | 81kB 29.2MB/s eta 0:00:01\r\u001b[K     |███                             | 92kB 25.5MB/s eta 0:00:01\r\u001b[K     |███▎                            | 102kB 25.5MB/s eta 0:00:01\r\u001b[K     |███▋                            | 112kB 25.5MB/s eta 0:00:01\r\u001b[K     |████                            | 122kB 25.5MB/s eta 0:00:01\r\u001b[K     |████▎                           | 133kB 25.5MB/s eta 0:00:01\r\u001b[K     |████▋                           | 143kB 25.5MB/s eta 0:00:01\r\u001b[K     |█████                           | 153kB 25.5MB/s eta 0:00:01\r\u001b[K     |█████▎                          | 163kB 25.5MB/s eta 0:00:01\r\u001b[K     |█████▋                          | 174kB 25.5MB/s eta 0:00:01\r\u001b[K     |██████                          | 184kB 25.5MB/s eta 0:00:01\r\u001b[K     |██████▎                         | 194kB 25.5MB/s eta 0:00:01\r\u001b[K     |██████▋                         | 204kB 25.5MB/s eta 0:00:01\r\u001b[K     |███████                         | 215kB 25.5MB/s eta 0:00:01\r\u001b[K     |███████▎                        | 225kB 25.5MB/s eta 0:00:01\r\u001b[K     |███████▋                        | 235kB 25.5MB/s eta 0:00:01\r\u001b[K     |████████                        | 245kB 25.5MB/s eta 0:00:01\r\u001b[K     |████████▎                       | 256kB 25.5MB/s eta 0:00:01\r\u001b[K     |████████▋                       | 266kB 25.5MB/s eta 0:00:01\r\u001b[K     |█████████                       | 276kB 25.5MB/s eta 0:00:01\r\u001b[K     |█████████▎                      | 286kB 25.5MB/s eta 0:00:01\r\u001b[K     |█████████▋                      | 296kB 25.5MB/s eta 0:00:01\r\u001b[K     |██████████                      | 307kB 25.5MB/s eta 0:00:01\r\u001b[K     |██████████▏                     | 317kB 25.5MB/s eta 0:00:01\r\u001b[K     |██████████▌                     | 327kB 25.5MB/s eta 0:00:01\r\u001b[K     |██████████▉                     | 337kB 25.5MB/s eta 0:00:01\r\u001b[K     |███████████▏                    | 348kB 25.5MB/s eta 0:00:01\r\u001b[K     |███████████▌                    | 358kB 25.5MB/s eta 0:00:01\r\u001b[K     |███████████▉                    | 368kB 25.5MB/s eta 0:00:01\r\u001b[K     |████████████▏                   | 378kB 25.5MB/s eta 0:00:01\r\u001b[K     |████████████▌                   | 389kB 25.5MB/s eta 0:00:01\r\u001b[K     |████████████▉                   | 399kB 25.5MB/s eta 0:00:01\r\u001b[K     |█████████████▏                  | 409kB 25.5MB/s eta 0:00:01\r\u001b[K     |█████████████▌                  | 419kB 25.5MB/s eta 0:00:01\r\u001b[K     |█████████████▉                  | 430kB 25.5MB/s eta 0:00:01\r\u001b[K     |██████████████▏                 | 440kB 25.5MB/s eta 0:00:01\r\u001b[K     |██████████████▌                 | 450kB 25.5MB/s eta 0:00:01\r\u001b[K     |██████████████▉                 | 460kB 25.5MB/s eta 0:00:01\r\u001b[K     |███████████████▏                | 471kB 25.5MB/s eta 0:00:01\r\u001b[K     |███████████████▌                | 481kB 25.5MB/s eta 0:00:01\r\u001b[K     |███████████████▉                | 491kB 25.5MB/s eta 0:00:01\r\u001b[K     |████████████████▏               | 501kB 25.5MB/s eta 0:00:01\r\u001b[K     |████████████████▌               | 512kB 25.5MB/s eta 0:00:01\r\u001b[K     |████████████████▉               | 522kB 25.5MB/s eta 0:00:01\r\u001b[K     |█████████████████▏              | 532kB 25.5MB/s eta 0:00:01\r\u001b[K     |█████████████████▌              | 542kB 25.5MB/s eta 0:00:01\r\u001b[K     |█████████████████▉              | 552kB 25.5MB/s eta 0:00:01\r\u001b[K     |██████████████████▏             | 563kB 25.5MB/s eta 0:00:01\r\u001b[K     |██████████████████▌             | 573kB 25.5MB/s eta 0:00:01\r\u001b[K     |██████████████████▉             | 583kB 25.5MB/s eta 0:00:01\r\u001b[K     |███████████████████▏            | 593kB 25.5MB/s eta 0:00:01\r\u001b[K     |███████████████████▌            | 604kB 25.5MB/s eta 0:00:01\r\u001b[K     |███████████████████▉            | 614kB 25.5MB/s eta 0:00:01\r\u001b[K     |████████████████████            | 624kB 25.5MB/s eta 0:00:01\r\u001b[K     |████████████████████▍           | 634kB 25.5MB/s eta 0:00:01\r\u001b[K     |████████████████████▊           | 645kB 25.5MB/s eta 0:00:01\r\u001b[K     |█████████████████████           | 655kB 25.5MB/s eta 0:00:01\r\u001b[K     |█████████████████████▍          | 665kB 25.5MB/s eta 0:00:01\r\u001b[K     |█████████████████████▊          | 675kB 25.5MB/s eta 0:00:01\r\u001b[K     |██████████████████████          | 686kB 25.5MB/s eta 0:00:01\r\u001b[K     |██████████████████████▍         | 696kB 25.5MB/s eta 0:00:01\r\u001b[K     |██████████████████████▊         | 706kB 25.5MB/s eta 0:00:01\r\u001b[K     |███████████████████████         | 716kB 25.5MB/s eta 0:00:01\r\u001b[K     |███████████████████████▍        | 727kB 25.5MB/s eta 0:00:01\r\u001b[K     |███████████████████████▊        | 737kB 25.5MB/s eta 0:00:01\r\u001b[K     |████████████████████████        | 747kB 25.5MB/s eta 0:00:01\r\u001b[K     |████████████████████████▍       | 757kB 25.5MB/s eta 0:00:01\r\u001b[K     |████████████████████████▊       | 768kB 25.5MB/s eta 0:00:01\r\u001b[K     |█████████████████████████       | 778kB 25.5MB/s eta 0:00:01\r\u001b[K     |█████████████████████████▍      | 788kB 25.5MB/s eta 0:00:01\r\u001b[K     |█████████████████████████▊      | 798kB 25.5MB/s eta 0:00:01\r\u001b[K     |██████████████████████████      | 808kB 25.5MB/s eta 0:00:01\r\u001b[K     |██████████████████████████▍     | 819kB 25.5MB/s eta 0:00:01\r\u001b[K     |██████████████████████████▊     | 829kB 25.5MB/s eta 0:00:01\r\u001b[K     |███████████████████████████     | 839kB 25.5MB/s eta 0:00:01\r\u001b[K     |███████████████████████████▍    | 849kB 25.5MB/s eta 0:00:01\r\u001b[K     |███████████████████████████▊    | 860kB 25.5MB/s eta 0:00:01\r\u001b[K     |████████████████████████████    | 870kB 25.5MB/s eta 0:00:01\r\u001b[K     |████████████████████████████▍   | 880kB 25.5MB/s eta 0:00:01\r\u001b[K     |████████████████████████████▊   | 890kB 25.5MB/s eta 0:00:01\r\u001b[K     |█████████████████████████████   | 901kB 25.5MB/s eta 0:00:01\r\u001b[K     |█████████████████████████████▍  | 911kB 25.5MB/s eta 0:00:01\r\u001b[K     |█████████████████████████████▊  | 921kB 25.5MB/s eta 0:00:01\r\u001b[K     |██████████████████████████████  | 931kB 25.5MB/s eta 0:00:01\r\u001b[K     |██████████████████████████████▎ | 942kB 25.5MB/s eta 0:00:01\r\u001b[K     |██████████████████████████████▋ | 952kB 25.5MB/s eta 0:00:01\r\u001b[K     |███████████████████████████████ | 962kB 25.5MB/s eta 0:00:01\r\u001b[K     |███████████████████████████████▎| 972kB 25.5MB/s eta 0:00:01\r\u001b[K     |███████████████████████████████▋| 983kB 25.5MB/s eta 0:00:01\r\u001b[K     |████████████████████████████████| 993kB 25.5MB/s eta 0:00:01\r\u001b[K     |████████████████████████████████| 1.0MB 25.5MB/s \n",
            "\u001b[?25hRequirement already satisfied: numpy>=1.6.0 in /usr/local/lib/python3.7/dist-packages (from scikit-fuzzy) (1.19.5)\n",
            "Requirement already satisfied: scipy>=0.9.0 in /usr/local/lib/python3.7/dist-packages (from scikit-fuzzy) (1.4.1)\n",
            "Requirement already satisfied: networkx>=1.9.0 in /usr/local/lib/python3.7/dist-packages (from scikit-fuzzy) (2.5.1)\n",
            "Requirement already satisfied: decorator<5,>=4.3 in /usr/local/lib/python3.7/dist-packages (from networkx>=1.9.0->scikit-fuzzy) (4.4.2)\n",
            "Building wheels for collected packages: scikit-fuzzy\n",
            "  Building wheel for scikit-fuzzy (setup.py) ... \u001b[?25l\u001b[?25hdone\n",
            "  Created wheel for scikit-fuzzy: filename=scikit_fuzzy-0.4.2-cp37-none-any.whl size=894088 sha256=42ad48af5036edfd250321aaf9ec6f37d768a3f131329f84cf886df26e695f58\n",
            "  Stored in directory: /root/.cache/pip/wheels/b9/4e/77/da79b16f64ef1738d95486e2731eea09d73e90a72465096600\n",
            "Successfully built scikit-fuzzy\n",
            "Installing collected packages: scikit-fuzzy\n",
            "Successfully installed scikit-fuzzy-0.4.2\n"
          ],
          "name": "stdout"
        }
      ]
    },
    {
      "cell_type": "code",
      "metadata": {
        "id": "LsCmk5POOTK9",
        "colab": {
          "base_uri": "https://localhost:8080/",
          "height": 205
        },
        "outputId": "077fcd3f-d6dc-4c83-aee9-5b1799515afc"
      },
      "source": [
        "data_path = \"/content/drive/MyDrive/ADM/WinnipegDataset_PCA_GA_revised.csv\"\n",
        "pd_data = pd.read_csv(data_path)\n",
        "pd_data.head()"
      ],
      "execution_count": 2,
      "outputs": [
        {
          "output_type": "execute_result",
          "data": {
            "text/html": [
              "<div>\n",
              "<style scoped>\n",
              "    .dataframe tbody tr th:only-of-type {\n",
              "        vertical-align: middle;\n",
              "    }\n",
              "\n",
              "    .dataframe tbody tr th {\n",
              "        vertical-align: top;\n",
              "    }\n",
              "\n",
              "    .dataframe thead th {\n",
              "        text-align: right;\n",
              "    }\n",
              "</style>\n",
              "<table border=\"1\" class=\"dataframe\">\n",
              "  <thead>\n",
              "    <tr style=\"text-align: right;\">\n",
              "      <th></th>\n",
              "      <th>label</th>\n",
              "      <th>f3</th>\n",
              "      <th>f4</th>\n",
              "      <th>f8</th>\n",
              "      <th>f11</th>\n",
              "      <th>f26</th>\n",
              "      <th>f28</th>\n",
              "      <th>f34</th>\n",
              "      <th>f50</th>\n",
              "      <th>f58</th>\n",
              "      <th>f83</th>\n",
              "      <th>f93</th>\n",
              "      <th>f101</th>\n",
              "      <th>f103</th>\n",
              "      <th>f122</th>\n",
              "      <th>f140</th>\n",
              "      <th>f143</th>\n",
              "      <th>f155</th>\n",
              "      <th>f167</th>\n",
              "    </tr>\n",
              "  </thead>\n",
              "  <tbody>\n",
              "    <tr>\n",
              "      <th>0</th>\n",
              "      <td>6</td>\n",
              "      <td>-16.5240</td>\n",
              "      <td>-20.043</td>\n",
              "      <td>-10.0250</td>\n",
              "      <td>2.7094</td>\n",
              "      <td>0.013174</td>\n",
              "      <td>0.68648</td>\n",
              "      <td>0.045229</td>\n",
              "      <td>-19.6580</td>\n",
              "      <td>-11.1330</td>\n",
              "      <td>0.069902</td>\n",
              "      <td>0.005024</td>\n",
              "      <td>0.017</td>\n",
              "      <td>0.386</td>\n",
              "      <td>1.358000</td>\n",
              "      <td>4533</td>\n",
              "      <td>2.4851</td>\n",
              "      <td>0.145850</td>\n",
              "      <td>2.5556</td>\n",
              "    </tr>\n",
              "    <tr>\n",
              "      <th>1</th>\n",
              "      <td>1</td>\n",
              "      <td>-8.4314</td>\n",
              "      <td>-11.446</td>\n",
              "      <td>-8.3004</td>\n",
              "      <td>2.5071</td>\n",
              "      <td>0.062497</td>\n",
              "      <td>0.64083</td>\n",
              "      <td>0.108470</td>\n",
              "      <td>-8.7655</td>\n",
              "      <td>-7.3826</td>\n",
              "      <td>0.092869</td>\n",
              "      <td>0.052145</td>\n",
              "      <td>0.021</td>\n",
              "      <td>0.390</td>\n",
              "      <td>0.246910</td>\n",
              "      <td>3641</td>\n",
              "      <td>4.3886</td>\n",
              "      <td>0.199670</td>\n",
              "      <td>0.0000</td>\n",
              "    </tr>\n",
              "    <tr>\n",
              "      <th>2</th>\n",
              "      <td>4</td>\n",
              "      <td>-18.3930</td>\n",
              "      <td>-23.072</td>\n",
              "      <td>-9.4808</td>\n",
              "      <td>4.8397</td>\n",
              "      <td>0.008322</td>\n",
              "      <td>0.70069</td>\n",
              "      <td>0.057388</td>\n",
              "      <td>-20.3520</td>\n",
              "      <td>-7.3504</td>\n",
              "      <td>0.091151</td>\n",
              "      <td>0.004449</td>\n",
              "      <td>0.029</td>\n",
              "      <td>0.241</td>\n",
              "      <td>0.543210</td>\n",
              "      <td>4377</td>\n",
              "      <td>3.5261</td>\n",
              "      <td>0.207610</td>\n",
              "      <td>2.0000</td>\n",
              "    </tr>\n",
              "    <tr>\n",
              "      <th>3</th>\n",
              "      <td>6</td>\n",
              "      <td>-16.3840</td>\n",
              "      <td>-19.722</td>\n",
              "      <td>-11.1120</td>\n",
              "      <td>3.0984</td>\n",
              "      <td>0.018220</td>\n",
              "      <td>0.71220</td>\n",
              "      <td>0.032811</td>\n",
              "      <td>-19.3120</td>\n",
              "      <td>-11.0470</td>\n",
              "      <td>0.070371</td>\n",
              "      <td>0.005182</td>\n",
              "      <td>0.008</td>\n",
              "      <td>0.390</td>\n",
              "      <td>0.098765</td>\n",
              "      <td>4010</td>\n",
              "      <td>2.5542</td>\n",
              "      <td>0.111110</td>\n",
              "      <td>2.0000</td>\n",
              "    </tr>\n",
              "    <tr>\n",
              "      <th>4</th>\n",
              "      <td>6</td>\n",
              "      <td>-15.1070</td>\n",
              "      <td>-19.087</td>\n",
              "      <td>-9.1981</td>\n",
              "      <td>4.1163</td>\n",
              "      <td>0.022670</td>\n",
              "      <td>0.75428</td>\n",
              "      <td>0.050915</td>\n",
              "      <td>-21.3390</td>\n",
              "      <td>-12.1560</td>\n",
              "      <td>0.056778</td>\n",
              "      <td>0.005019</td>\n",
              "      <td>0.037</td>\n",
              "      <td>0.300</td>\n",
              "      <td>0.395060</td>\n",
              "      <td>4918</td>\n",
              "      <td>1.1997</td>\n",
              "      <td>-0.001016</td>\n",
              "      <td>4.7778</td>\n",
              "    </tr>\n",
              "  </tbody>\n",
              "</table>\n",
              "</div>"
            ],
            "text/plain": [
              "   label       f3      f4       f8  ...  f140    f143      f155    f167\n",
              "0      6 -16.5240 -20.043 -10.0250  ...  4533  2.4851  0.145850  2.5556\n",
              "1      1  -8.4314 -11.446  -8.3004  ...  3641  4.3886  0.199670  0.0000\n",
              "2      4 -18.3930 -23.072  -9.4808  ...  4377  3.5261  0.207610  2.0000\n",
              "3      6 -16.3840 -19.722 -11.1120  ...  4010  2.5542  0.111110  2.0000\n",
              "4      6 -15.1070 -19.087  -9.1981  ...  4918  1.1997 -0.001016  4.7778\n",
              "\n",
              "[5 rows x 19 columns]"
            ]
          },
          "metadata": {
            "tags": []
          },
          "execution_count": 2
        }
      ]
    },
    {
      "cell_type": "code",
      "metadata": {
        "colab": {
          "base_uri": "https://localhost:8080/",
          "height": 205
        },
        "id": "9LSimFoW65cA",
        "outputId": "28ec9f09-02fd-4cfa-f0b0-080db5c359b7"
      },
      "source": [
        "data_path = \"/content/drive/MyDrive/ADM/bin_range_PCA_GA_revised_3.csv\"\n",
        "bin_range = pd.read_csv(data_path)\n",
        "bin_range.head()"
      ],
      "execution_count": 3,
      "outputs": [
        {
          "output_type": "execute_result",
          "data": {
            "text/html": [
              "<div>\n",
              "<style scoped>\n",
              "    .dataframe tbody tr th:only-of-type {\n",
              "        vertical-align: middle;\n",
              "    }\n",
              "\n",
              "    .dataframe tbody tr th {\n",
              "        vertical-align: top;\n",
              "    }\n",
              "\n",
              "    .dataframe thead th {\n",
              "        text-align: right;\n",
              "    }\n",
              "</style>\n",
              "<table border=\"1\" class=\"dataframe\">\n",
              "  <thead>\n",
              "    <tr style=\"text-align: right;\">\n",
              "      <th></th>\n",
              "      <th>0</th>\n",
              "      <th>1</th>\n",
              "      <th>2</th>\n",
              "      <th>3</th>\n",
              "    </tr>\n",
              "  </thead>\n",
              "  <tbody>\n",
              "    <tr>\n",
              "      <th>0</th>\n",
              "      <td>-23.161000</td>\n",
              "      <td>-15.072667</td>\n",
              "      <td>-6.984333</td>\n",
              "      <td>1.10400</td>\n",
              "    </tr>\n",
              "    <tr>\n",
              "      <th>1</th>\n",
              "      <td>-27.245000</td>\n",
              "      <td>-17.905030</td>\n",
              "      <td>-8.565060</td>\n",
              "      <td>0.77491</td>\n",
              "    </tr>\n",
              "    <tr>\n",
              "      <th>2</th>\n",
              "      <td>-16.389000</td>\n",
              "      <td>-11.317800</td>\n",
              "      <td>-6.246600</td>\n",
              "      <td>-1.17540</td>\n",
              "    </tr>\n",
              "    <tr>\n",
              "      <th>3</th>\n",
              "      <td>-4.281900</td>\n",
              "      <td>0.882733</td>\n",
              "      <td>6.047367</td>\n",
              "      <td>11.21200</td>\n",
              "    </tr>\n",
              "    <tr>\n",
              "      <th>4</th>\n",
              "      <td>0.003183</td>\n",
              "      <td>0.256328</td>\n",
              "      <td>0.509474</td>\n",
              "      <td>0.76262</td>\n",
              "    </tr>\n",
              "  </tbody>\n",
              "</table>\n",
              "</div>"
            ],
            "text/plain": [
              "           0          1         2         3\n",
              "0 -23.161000 -15.072667 -6.984333   1.10400\n",
              "1 -27.245000 -17.905030 -8.565060   0.77491\n",
              "2 -16.389000 -11.317800 -6.246600  -1.17540\n",
              "3  -4.281900   0.882733  6.047367  11.21200\n",
              "4   0.003183   0.256328  0.509474   0.76262"
            ]
          },
          "metadata": {
            "tags": []
          },
          "execution_count": 3
        }
      ]
    },
    {
      "cell_type": "code",
      "metadata": {
        "colab": {
          "base_uri": "https://localhost:8080/"
        },
        "id": "IWdlGgYO68NO",
        "outputId": "4a225352-d69f-4f6d-cfb8-63a1444ed953"
      },
      "source": [
        "print(pd_data.shape, bin_range.shape)"
      ],
      "execution_count": 4,
      "outputs": [
        {
          "output_type": "stream",
          "text": [
            "(325834, 19) (18, 4)\n"
          ],
          "name": "stdout"
        }
      ]
    },
    {
      "cell_type": "code",
      "metadata": {
        "colab": {
          "base_uri": "https://localhost:8080/"
        },
        "id": "9c-m6dup7DmZ",
        "outputId": "49ae0c7e-2945-4b0f-df27-e504378b2f94"
      },
      "source": [
        "fuzzy_var = {}\n",
        "cols = list(pd_data.columns)\n",
        "cols.pop(0)\n",
        "cols\n",
        "# range(len(bin_range))"
      ],
      "execution_count": 5,
      "outputs": [
        {
          "output_type": "execute_result",
          "data": {
            "text/plain": [
              "['f3',\n",
              " 'f4',\n",
              " 'f8',\n",
              " 'f11',\n",
              " 'f26',\n",
              " 'f28',\n",
              " 'f34',\n",
              " 'f50',\n",
              " 'f58',\n",
              " 'f83',\n",
              " 'f93',\n",
              " 'f101',\n",
              " 'f103',\n",
              " 'f122',\n",
              " 'f140',\n",
              " 'f143',\n",
              " 'f155',\n",
              " 'f167']"
            ]
          },
          "metadata": {
            "tags": []
          },
          "execution_count": 5
        }
      ]
    },
    {
      "cell_type": "code",
      "metadata": {
        "colab": {
          "base_uri": "https://localhost:8080/"
        },
        "id": "OC2BBwVi7FY4",
        "outputId": "e14d10da-f325-4dca-d8b1-4c506f9607d5"
      },
      "source": [
        "bin_range.iloc[2]"
      ],
      "execution_count": 6,
      "outputs": [
        {
          "output_type": "execute_result",
          "data": {
            "text/plain": [
              "0   -16.3890\n",
              "1   -11.3178\n",
              "2    -6.2466\n",
              "3    -1.1754\n",
              "Name: 2, dtype: float64"
            ]
          },
          "metadata": {
            "tags": []
          },
          "execution_count": 6
        }
      ]
    },
    {
      "cell_type": "code",
      "metadata": {
        "colab": {
          "base_uri": "https://localhost:8080/"
        },
        "id": "N7UdF-Y87H7b",
        "outputId": "ca3d437e-ee96-42d6-9612-56491e7d3238"
      },
      "source": [
        "for i,j in zip(cols, range(len(bin_range))):\n",
        "#     print(pd_data[i])\n",
        "#     print(pd_data[i].min())\n",
        "#     print(list(bin_range.iloc[j]))\n",
        "#     print(bin_range.iloc[j]['1'])\n",
        "    l = list(bin_range.iloc[j])\n",
        "    fuzzy_var[j] = ctrl.Antecedent(np.arange(pd_data[i].min(), pd_data[i].max(), 0.001), i)\n",
        "    # print(type(f1))\n",
        "    fuzzy_var[j]['0'] = fuzz.trimf(fuzzy_var[j].universe, [l[0], l[0], (l[0] + l[3]) / 2])\n",
        "    fuzzy_var[j]['1'] = fuzz.trimf(fuzzy_var[j].universe, [(l[0] + l[1]) / 2, (l[1] + l[2]) / 2, (l[2] + l[3]) / 2])\n",
        "    fuzzy_var[j]['2'] = fuzz.trimf(fuzzy_var[j].universe, [(l[1] + l[2]) / 2, l[3], l[3]])\n",
        "    print(j)\n",
        "#     break"
      ],
      "execution_count": 7,
      "outputs": [
        {
          "output_type": "stream",
          "text": [
            "0\n",
            "1\n",
            "2\n",
            "3\n",
            "4\n",
            "5\n",
            "6\n",
            "7\n",
            "8\n",
            "9\n",
            "10\n",
            "11\n",
            "12\n",
            "13\n",
            "14\n",
            "15\n",
            "16\n",
            "17\n"
          ],
          "name": "stdout"
        }
      ]
    },
    {
      "cell_type": "code",
      "metadata": {
        "colab": {
          "base_uri": "https://localhost:8080/",
          "height": 281
        },
        "id": "2ktLULY_7LyJ",
        "outputId": "15149f37-cb1e-47ec-f61e-9d9f5579fb86"
      },
      "source": [
        "fuzzy_var[10].view()"
      ],
      "execution_count": 8,
      "outputs": [
        {
          "output_type": "display_data",
          "data": {
            "image/png": "[encoded data removed]",
            "text/plain": [
              "<Figure size 432x288 with 1 Axes>"
            ]
          },
          "metadata": {
            "tags": [],
            "needs_background": "light"
          }
        }
      ]
    },
    {
      "cell_type": "code",
      "metadata": {
        "colab": {
          "base_uri": "https://localhost:8080/",
          "height": 281
        },
        "id": "Bc-CcTDi7Ogn",
        "outputId": "e80144d0-f7a9-43e7-8390-2e3e7c4f7993"
      },
      "source": [
        "label = ctrl.Consequent(np.arange(1, 8, 1), 'label', defuzzify_method='mom')\n",
        "label.automf(7, names = ['1', '2', '3', '4', '5', '6', '7'])\n",
        "label.view()"
      ],
      "execution_count": 9,
      "outputs": [
        {
          "output_type": "display_data",
          "data": {
            "image/png": "[encoded data removed]",
            "text/plain": [
              "<Figure size 432x288 with 1 Axes>"
            ]
          },
          "metadata": {
            "tags": [],
            "needs_background": "light"
          }
        }
      ]
    },
    {
      "cell_type": "code",
      "metadata": {
        "colab": {
          "base_uri": "https://localhost:8080/"
        },
        "id": "Z73ViqQ98IIa",
        "outputId": "1f032b7b-e0b0-4ccf-f760-ad8ebb5b70ba"
      },
      "source": [
        "for i in range(len(cols)):\n",
        "  print(i, cols[i])"
      ],
      "execution_count": 10,
      "outputs": [
        {
          "output_type": "stream",
          "text": [
            "0 f3\n",
            "1 f4\n",
            "2 f8\n",
            "3 f11\n",
            "4 f26\n",
            "5 f28\n",
            "6 f34\n",
            "7 f50\n",
            "8 f58\n",
            "9 f83\n",
            "10 f93\n",
            "11 f101\n",
            "12 f103\n",
            "13 f122\n",
            "14 f140\n",
            "15 f143\n",
            "16 f155\n",
            "17 f167\n"
          ],
          "name": "stdout"
        }
      ]
    },
    {
      "cell_type": "code",
      "metadata": {
        "colab": {
          "base_uri": "https://localhost:8080/"
        },
        "id": "hfX_8jaI7U2O",
        "outputId": "5500f62f-3086-48a6-b67f-0471476bddf0"
      },
      "source": [
        "fuzzy_var[2]"
      ],
      "execution_count": 11,
      "outputs": [
        {
          "output_type": "execute_result",
          "data": {
            "text/plain": [
              "Antecedent: f8"
            ]
          },
          "metadata": {
            "tags": []
          },
          "execution_count": 11
        }
      ]
    },
    {
      "cell_type": "code",
      "metadata": {
        "id": "VyH6d-6U7Ymc"
      },
      "source": [
        "rule1 = ctrl.Rule((fuzzy_var[1]['1'] | fuzzy_var[1]['2']) & fuzzy_var[14]['0'] , label['1'])\n",
        "rule2 = ctrl.Rule((fuzzy_var[1]['1'] | fuzzy_var[1]['2']) & (fuzzy_var[14]['1'] | fuzzy_var[14]['2']) & fuzzy_var[15]['2'] & fuzzy_var[2]['2']  , label['2'])\n",
        "rule3 = ctrl.Rule((fuzzy_var[1]['1'] | fuzzy_var[1]['2']) & (fuzzy_var[14]['1'] | fuzzy_var[14]['2']) & (fuzzy_var[15]['0'] | fuzzy_var[15]['1']), label['3'])\n",
        "rule4 = ctrl.Rule(fuzzy_var[1]['0'] & (fuzzy_var[8]['1'] | fuzzy_var[8]['2']) & fuzzy_var[16]['2'] & fuzzy_var[12]['2'], label['3'])\n",
        "rule5 = ctrl.Rule(fuzzy_var[1]['0'] & (fuzzy_var[8]['1'] | fuzzy_var[8]['2']) & (fuzzy_var[16]['0'] | fuzzy_var[16]['1']) & (fuzzy_var[12]['1'] | fuzzy_var[12]['2']) & (fuzzy_var[14]['1'] | fuzzy_var[14]['2']) & fuzzy_var[5]['2'], label['4'])   \n",
        "rule6 = ctrl.Rule(fuzzy_var[1]['0'] & (fuzzy_var[8]['1'] | fuzzy_var[8]['2']) & fuzzy_var[16]['2'] & (fuzzy_var[12]['1'] | fuzzy_var[12]['2']), label['4'])\n",
        "rule7 = ctrl.Rule((fuzzy_var[1]['1'] | fuzzy_var[1]['2']) & (fuzzy_var[14]['1'] | fuzzy_var[14]['2']) & fuzzy_var[15]['2'] & (fuzzy_var[2]['0'] | fuzzy_var[2]['1']), label['4'])\n",
        "rule8 = ctrl.Rule(fuzzy_var[1]['0'] & fuzzy_var[8]['0'] & fuzzy_var[16]['2'], label['4'])\n",
        "rule9 = ctrl.Rule(fuzzy_var[1]['0'] & (fuzzy_var[8]['1'] | fuzzy_var[8]['2']) & fuzzy_var[12]['0'] , label['4'])\n",
        "rule10 = ctrl.Rule(fuzzy_var[1]['0'] & (fuzzy_var[8]['1'] | fuzzy_var[8]['2']) & (fuzzy_var[16]['0'] | fuzzy_var[16]['1']) & (fuzzy_var[5]['0'] | fuzzy_var[5]['1']), label['5'])\n",
        "rule11 = ctrl.Rule(fuzzy_var[1]['0'] & (fuzzy_var[8]['1'] | fuzzy_var[8]['2']) & (fuzzy_var[16]['0'] | fuzzy_var[16]['1']) & (fuzzy_var[12]['0'] | fuzzy_var[12]['1']) & fuzzy_var[14]['0'] & fuzzy_var[5]['2'], label['6'])\n",
        "rule12 = ctrl.Rule(fuzzy_var[1]['0'] & fuzzy_var[8]['0'] & (fuzzy_var[16]['0'] | fuzzy_var[16]['1']) , label['6'])"
      ],
      "execution_count": 12,
      "outputs": []
    },
    {
      "cell_type": "code",
      "metadata": {
        "colab": {
          "base_uri": "https://localhost:8080/"
        },
        "id": "ulnMBTF9tPW2",
        "outputId": "1a969618-5584-49ac-b355-cdc3b6ebc8d4"
      },
      "source": [
        "rule4"
      ],
      "execution_count": 23,
      "outputs": [
        {
          "output_type": "execute_result",
          "data": {
            "text/plain": [
              "IF ((f4[0] AND (f58[1] OR f58[2])) AND f155[2]) AND f103[2] THEN label[3]\n",
              "\tAND aggregation function : fmin\n",
              "\tOR aggregation function  : fmax"
            ]
          },
          "metadata": {
            "tags": []
          },
          "execution_count": 23
        }
      ]
    },
    {
      "cell_type": "code",
      "metadata": {
        "colab": {
          "base_uri": "https://localhost:8080/",
          "height": 285
        },
        "id": "6AThHeMAtRDa",
        "outputId": "1b2540da-ff40-440c-f722-e81dd261b120"
      },
      "source": [
        "rule4.view()"
      ],
      "execution_count": 24,
      "outputs": [
        {
          "output_type": "execute_result",
          "data": {
            "text/plain": [
              "(<Figure size 432x288 with 1 Axes>,\n",
              " <matplotlib.axes._subplots.AxesSubplot at 0x7fe8fa45e410>)"
            ]
          },
          "metadata": {
            "tags": []
          },
          "execution_count": 24
        },
        {
          "output_type": "display_data",
          "data": {
            "image/png": "[encoded data removed]",
            "text/plain": [
              "<Figure size 432x288 with 1 Axes>"
            ]
          },
          "metadata": {
            "tags": []
          }
        }
      ]
    },
    {
      "cell_type": "code",
      "metadata": {
        "id": "UQEP0_EIo4ti"
      },
      "source": [
        "label_ctrl = ctrl.ControlSystem([rule1, rule2, rule3, rule4, rule5, rule6, rule7, rule8, rule9, rule10, rule11, rule12])"
      ],
      "execution_count": 13,
      "outputs": []
    },
    {
      "cell_type": "code",
      "metadata": {
        "id": "w1oQQVJSo_gR"
      },
      "source": [
        "crop = ctrl.ControlSystemSimulation(label_ctrl)"
      ],
      "execution_count": 14,
      "outputs": []
    },
    {
      "cell_type": "code",
      "metadata": {
        "colab": {
          "base_uri": "https://localhost:8080/"
        },
        "id": "gVg4meZfpA0x",
        "outputId": "266dd353-1465-44b4-e472-b0387fb2eaf4"
      },
      "source": [
        "crop.input"
      ],
      "execution_count": 15,
      "outputs": [
        {
          "output_type": "execute_result",
          "data": {
            "text/plain": [
              "f4 : None\n",
              "f140 : None\n",
              "f143 : None\n",
              "f8 : None\n",
              "f58 : None\n",
              "f155 : None\n",
              "f103 : None\n",
              "f28 : None"
            ]
          },
          "metadata": {
            "tags": []
          },
          "execution_count": 15
        }
      ]
    },
    {
      "cell_type": "code",
      "metadata": {
        "colab": {
          "base_uri": "https://localhost:8080/"
        },
        "id": "Iodd16u5pCBp",
        "outputId": "8b769894-0554-4991-f18c-b2611a2e2d31"
      },
      "source": [
        "pd_data.iloc[265490]"
      ],
      "execution_count": 16,
      "outputs": [
        {
          "output_type": "execute_result",
          "data": {
            "text/plain": [
              "label       3.000000\n",
              "f3        -13.505000\n",
              "f4        -14.698000\n",
              "f8         -8.043200\n",
              "f11         3.014300\n",
              "f26         0.043726\n",
              "f28         0.803210\n",
              "f34         0.078884\n",
              "f50       -13.924000\n",
              "f58        -5.302900\n",
              "f83         0.121230\n",
              "f93         0.012136\n",
              "f101        0.064000\n",
              "f103        0.493000\n",
              "f122        1.333300\n",
              "f140     5643.000000\n",
              "f143        3.782400\n",
              "f155        0.247210\n",
              "f167        3.000000\n",
              "Name: 265490, dtype: float64"
            ]
          },
          "metadata": {
            "tags": []
          },
          "execution_count": 16
        }
      ]
    },
    {
      "cell_type": "code",
      "metadata": {
        "id": "PNdk74qRpDiI"
      },
      "source": [
        "l = ['f4', 'f140', 'f143', 'f8', 'f58', 'f155', 'f103', 'f28']"
      ],
      "execution_count": 17,
      "outputs": []
    },
    {
      "cell_type": "code",
      "metadata": {
        "id": "VkvV5-QspXcf"
      },
      "source": [
        "for i in l:\n",
        "  crop.input[i] = pd_data.iloc[265490][i]"
      ],
      "execution_count": 18,
      "outputs": []
    },
    {
      "cell_type": "code",
      "metadata": {
        "id": "zk8755AUpZcF"
      },
      "source": [
        "crop.compute()"
      ],
      "execution_count": 19,
      "outputs": []
    },
    {
      "cell_type": "code",
      "metadata": {
        "colab": {
          "base_uri": "https://localhost:8080/"
        },
        "id": "nOmFcFgzpblD",
        "outputId": "ddb844c5-f5e1-4770-faba-dd422fc4e746"
      },
      "source": [
        "print(crop.clip_to_bounds, crop.output['label'])\n",
        "for i in crop.output:\n",
        "  print(i)"
      ],
      "execution_count": 20,
      "outputs": [
        {
          "output_type": "stream",
          "text": [
            "True 3.0261056334584944\n",
            "label\n"
          ],
          "name": "stdout"
        }
      ]
    },
    {
      "cell_type": "code",
      "metadata": {
        "colab": {
          "base_uri": "https://localhost:8080/",
          "height": 281
        },
        "id": "Uz9mS-IapdGU",
        "outputId": "45492be7-4632-4f27-de18-95f8ce3f35bb"
      },
      "source": [
        "label.view(sim=crop)"
      ],
      "execution_count": 21,
      "outputs": [
        {
          "output_type": "display_data",
          "data": {
            "image/png": "[encoded data removed]",
            "text/plain": [
              "<Figure size 432x288 with 1 Axes>"
            ]
          },
          "metadata": {
            "tags": [],
            "needs_background": "light"
          }
        }
      ]
    },
    {
      "cell_type": "code",
      "metadata": {
        "colab": {
          "base_uri": "https://localhost:8080/",
          "height": 422
        },
        "id": "7JGLYInzpfL-",
        "outputId": "4cb5b81b-d5ba-41e8-aa22-4b7d047ebaa6"
      },
      "source": [
        "test_data = pd_data.sample(n = int(len(pd_data) * 0.20))\n",
        "test_data"
      ],
      "execution_count": null,
      "outputs": [
        {
          "output_type": "execute_result",
          "data": {
            "text/html": [
              "<div>\n",
              "<style scoped>\n",
              "    .dataframe tbody tr th:only-of-type {\n",
              "        vertical-align: middle;\n",
              "    }\n",
              "\n",
              "    .dataframe tbody tr th {\n",
              "        vertical-align: top;\n",
              "    }\n",
              "\n",
              "    .dataframe thead th {\n",
              "        text-align: right;\n",
              "    }\n",
              "</style>\n",
              "<table border=\"1\" class=\"dataframe\">\n",
              "  <thead>\n",
              "    <tr style=\"text-align: right;\">\n",
              "      <th></th>\n",
              "      <th>label</th>\n",
              "      <th>f3</th>\n",
              "      <th>f4</th>\n",
              "      <th>f8</th>\n",
              "      <th>f11</th>\n",
              "      <th>f26</th>\n",
              "      <th>f28</th>\n",
              "      <th>f34</th>\n",
              "      <th>f50</th>\n",
              "      <th>f58</th>\n",
              "      <th>f83</th>\n",
              "      <th>f93</th>\n",
              "      <th>f101</th>\n",
              "      <th>f103</th>\n",
              "      <th>f122</th>\n",
              "      <th>f140</th>\n",
              "      <th>f143</th>\n",
              "      <th>f155</th>\n",
              "      <th>f167</th>\n",
              "    </tr>\n",
              "  </thead>\n",
              "  <tbody>\n",
              "    <tr>\n",
              "      <th>294519</th>\n",
              "      <td>6</td>\n",
              "      <td>-19.9690</td>\n",
              "      <td>-23.431</td>\n",
              "      <td>-10.4880</td>\n",
              "      <td>5.8272</td>\n",
              "      <td>0.007301</td>\n",
              "      <td>0.68501</td>\n",
              "      <td>0.086429</td>\n",
              "      <td>-20.5320</td>\n",
              "      <td>-9.6091</td>\n",
              "      <td>0.069911</td>\n",
              "      <td>0.004299</td>\n",
              "      <td>0.008</td>\n",
              "      <td>0.471</td>\n",
              "      <td>0.24691</td>\n",
              "      <td>4021</td>\n",
              "      <td>3.0748</td>\n",
              "      <td>0.16601</td>\n",
              "      <td>1.0000</td>\n",
              "    </tr>\n",
              "    <tr>\n",
              "      <th>266389</th>\n",
              "      <td>1</td>\n",
              "      <td>-9.3209</td>\n",
              "      <td>-11.999</td>\n",
              "      <td>-7.6135</td>\n",
              "      <td>2.4220</td>\n",
              "      <td>0.065928</td>\n",
              "      <td>0.70466</td>\n",
              "      <td>0.094230</td>\n",
              "      <td>-9.1119</td>\n",
              "      <td>-6.8290</td>\n",
              "      <td>0.106890</td>\n",
              "      <td>0.045128</td>\n",
              "      <td>0.022</td>\n",
              "      <td>0.433</td>\n",
              "      <td>0.39506</td>\n",
              "      <td>3703</td>\n",
              "      <td>4.5266</td>\n",
              "      <td>0.19010</td>\n",
              "      <td>0.0000</td>\n",
              "    </tr>\n",
              "    <tr>\n",
              "      <th>36096</th>\n",
              "      <td>6</td>\n",
              "      <td>-19.6750</td>\n",
              "      <td>-21.589</td>\n",
              "      <td>-8.9024</td>\n",
              "      <td>3.3554</td>\n",
              "      <td>0.010192</td>\n",
              "      <td>0.77823</td>\n",
              "      <td>0.064246</td>\n",
              "      <td>-19.7370</td>\n",
              "      <td>-7.8119</td>\n",
              "      <td>0.077050</td>\n",
              "      <td>0.005551</td>\n",
              "      <td>0.014</td>\n",
              "      <td>0.472</td>\n",
              "      <td>0.24691</td>\n",
              "      <td>4224</td>\n",
              "      <td>3.1746</td>\n",
              "      <td>0.17660</td>\n",
              "      <td>1.3333</td>\n",
              "    </tr>\n",
              "    <tr>\n",
              "      <th>234427</th>\n",
              "      <td>5</td>\n",
              "      <td>-16.3370</td>\n",
              "      <td>-20.083</td>\n",
              "      <td>-8.4273</td>\n",
              "      <td>5.0281</td>\n",
              "      <td>0.015947</td>\n",
              "      <td>0.74828</td>\n",
              "      <td>0.078932</td>\n",
              "      <td>-20.1120</td>\n",
              "      <td>-7.4323</td>\n",
              "      <td>0.078017</td>\n",
              "      <td>0.004516</td>\n",
              "      <td>0.018</td>\n",
              "      <td>0.450</td>\n",
              "      <td>1.58020</td>\n",
              "      <td>4456</td>\n",
              "      <td>3.1378</td>\n",
              "      <td>0.20400</td>\n",
              "      <td>2.0000</td>\n",
              "    </tr>\n",
              "    <tr>\n",
              "      <th>126499</th>\n",
              "      <td>6</td>\n",
              "      <td>-16.9160</td>\n",
              "      <td>-20.509</td>\n",
              "      <td>-10.6620</td>\n",
              "      <td>4.9299</td>\n",
              "      <td>0.015948</td>\n",
              "      <td>0.70877</td>\n",
              "      <td>0.050943</td>\n",
              "      <td>-18.7260</td>\n",
              "      <td>-8.5166</td>\n",
              "      <td>0.094767</td>\n",
              "      <td>0.005505</td>\n",
              "      <td>0.007</td>\n",
              "      <td>0.459</td>\n",
              "      <td>1.11110</td>\n",
              "      <td>4125</td>\n",
              "      <td>3.1999</td>\n",
              "      <td>0.16657</td>\n",
              "      <td>1.0000</td>\n",
              "    </tr>\n",
              "    <tr>\n",
              "      <th>...</th>\n",
              "      <td>...</td>\n",
              "      <td>...</td>\n",
              "      <td>...</td>\n",
              "      <td>...</td>\n",
              "      <td>...</td>\n",
              "      <td>...</td>\n",
              "      <td>...</td>\n",
              "      <td>...</td>\n",
              "      <td>...</td>\n",
              "      <td>...</td>\n",
              "      <td>...</td>\n",
              "      <td>...</td>\n",
              "      <td>...</td>\n",
              "      <td>...</td>\n",
              "      <td>...</td>\n",
              "      <td>...</td>\n",
              "      <td>...</td>\n",
              "      <td>...</td>\n",
              "      <td>...</td>\n",
              "    </tr>\n",
              "    <tr>\n",
              "      <th>91582</th>\n",
              "      <td>4</td>\n",
              "      <td>-16.8430</td>\n",
              "      <td>-20.914</td>\n",
              "      <td>-9.6229</td>\n",
              "      <td>3.5588</td>\n",
              "      <td>0.014087</td>\n",
              "      <td>0.71796</td>\n",
              "      <td>0.040982</td>\n",
              "      <td>-19.2150</td>\n",
              "      <td>-8.8695</td>\n",
              "      <td>0.055040</td>\n",
              "      <td>0.008514</td>\n",
              "      <td>0.037</td>\n",
              "      <td>0.252</td>\n",
              "      <td>4.66670</td>\n",
              "      <td>4297</td>\n",
              "      <td>4.2491</td>\n",
              "      <td>0.23141</td>\n",
              "      <td>1.0000</td>\n",
              "    </tr>\n",
              "    <tr>\n",
              "      <th>265490</th>\n",
              "      <td>3</td>\n",
              "      <td>-13.5050</td>\n",
              "      <td>-14.698</td>\n",
              "      <td>-8.0432</td>\n",
              "      <td>3.0143</td>\n",
              "      <td>0.043726</td>\n",
              "      <td>0.80321</td>\n",
              "      <td>0.078884</td>\n",
              "      <td>-13.9240</td>\n",
              "      <td>-5.3029</td>\n",
              "      <td>0.121230</td>\n",
              "      <td>0.012136</td>\n",
              "      <td>0.064</td>\n",
              "      <td>0.493</td>\n",
              "      <td>1.33330</td>\n",
              "      <td>5643</td>\n",
              "      <td>3.7824</td>\n",
              "      <td>0.24721</td>\n",
              "      <td>3.0000</td>\n",
              "    </tr>\n",
              "    <tr>\n",
              "      <th>193843</th>\n",
              "      <td>4</td>\n",
              "      <td>-17.9360</td>\n",
              "      <td>-21.236</td>\n",
              "      <td>-8.3222</td>\n",
              "      <td>3.6023</td>\n",
              "      <td>0.009793</td>\n",
              "      <td>0.72188</td>\n",
              "      <td>0.067005</td>\n",
              "      <td>-17.1320</td>\n",
              "      <td>-6.3445</td>\n",
              "      <td>0.068890</td>\n",
              "      <td>0.009707</td>\n",
              "      <td>0.081</td>\n",
              "      <td>0.284</td>\n",
              "      <td>0.17284</td>\n",
              "      <td>5012</td>\n",
              "      <td>4.3620</td>\n",
              "      <td>0.24941</td>\n",
              "      <td>1.6667</td>\n",
              "    </tr>\n",
              "    <tr>\n",
              "      <th>124848</th>\n",
              "      <td>6</td>\n",
              "      <td>-19.1320</td>\n",
              "      <td>-21.161</td>\n",
              "      <td>-8.5068</td>\n",
              "      <td>2.9429</td>\n",
              "      <td>0.011362</td>\n",
              "      <td>0.79512</td>\n",
              "      <td>0.056831</td>\n",
              "      <td>-18.5600</td>\n",
              "      <td>-9.3039</td>\n",
              "      <td>0.060318</td>\n",
              "      <td>0.008553</td>\n",
              "      <td>0.013</td>\n",
              "      <td>0.350</td>\n",
              "      <td>0.98765</td>\n",
              "      <td>4522</td>\n",
              "      <td>2.3949</td>\n",
              "      <td>0.15108</td>\n",
              "      <td>3.0000</td>\n",
              "    </tr>\n",
              "    <tr>\n",
              "      <th>129972</th>\n",
              "      <td>3</td>\n",
              "      <td>-11.2960</td>\n",
              "      <td>-12.899</td>\n",
              "      <td>-8.2594</td>\n",
              "      <td>2.3947</td>\n",
              "      <td>0.074052</td>\n",
              "      <td>0.81565</td>\n",
              "      <td>0.061403</td>\n",
              "      <td>-12.9680</td>\n",
              "      <td>-5.4873</td>\n",
              "      <td>0.137730</td>\n",
              "      <td>0.013756</td>\n",
              "      <td>0.078</td>\n",
              "      <td>0.504</td>\n",
              "      <td>3.13580</td>\n",
              "      <td>5699</td>\n",
              "      <td>2.7524</td>\n",
              "      <td>0.14163</td>\n",
              "      <td>4.3333</td>\n",
              "    </tr>\n",
              "  </tbody>\n",
              "</table>\n",
              "<p>65166 rows × 19 columns</p>\n",
              "</div>"
            ],
            "text/plain": [
              "        label       f3      f4       f8  ...  f140    f143     f155    f167\n",
              "294519      6 -19.9690 -23.431 -10.4880  ...  4021  3.0748  0.16601  1.0000\n",
              "266389      1  -9.3209 -11.999  -7.6135  ...  3703  4.5266  0.19010  0.0000\n",
              "36096       6 -19.6750 -21.589  -8.9024  ...  4224  3.1746  0.17660  1.3333\n",
              "234427      5 -16.3370 -20.083  -8.4273  ...  4456  3.1378  0.20400  2.0000\n",
              "126499      6 -16.9160 -20.509 -10.6620  ...  4125  3.1999  0.16657  1.0000\n",
              "...       ...      ...     ...      ...  ...   ...     ...      ...     ...\n",
              "91582       4 -16.8430 -20.914  -9.6229  ...  4297  4.2491  0.23141  1.0000\n",
              "265490      3 -13.5050 -14.698  -8.0432  ...  5643  3.7824  0.24721  3.0000\n",
              "193843      4 -17.9360 -21.236  -8.3222  ...  5012  4.3620  0.24941  1.6667\n",
              "124848      6 -19.1320 -21.161  -8.5068  ...  4522  2.3949  0.15108  3.0000\n",
              "129972      3 -11.2960 -12.899  -8.2594  ...  5699  2.7524  0.14163  4.3333\n",
              "\n",
              "[65166 rows x 19 columns]"
            ]
          },
          "metadata": {
            "tags": []
          },
          "execution_count": 48
        }
      ]
    },
    {
      "cell_type": "code",
      "metadata": {
        "colab": {
          "base_uri": "https://localhost:8080/"
        },
        "id": "ilz9T7IiqBl4",
        "outputId": "99e71f9b-ea8e-4d75-a663-d4596ae3c07d"
      },
      "source": [
        "c = 0\n",
        "for i, j in test_data.iterrows():\n",
        "  actual_val = j['label']\n",
        "  for k in l:\n",
        "    crop.input[k] = j[k]\n",
        "  crop.compute()\n",
        "  pred = round(crop.output['label'])\n",
        "  # print(pred, actual_val)\n",
        "  if pred == actual_val:\n",
        "    c+=1\n",
        "\n",
        "print(c / len(test_data))"
      ],
      "execution_count": null,
      "outputs": [
        {
          "output_type": "stream",
          "text": [
            "0.69049811251266\n"
          ],
          "name": "stdout"
        }
      ]
    },
    {
      "cell_type": "code",
      "metadata": {
        "id": "J3SA82yhrPB1"
      },
      "source": [
        ""
      ],
      "execution_count": null,
      "outputs": []
    }
  ]
}